{
 "cells": [
  {
   "cell_type": "markdown",
   "metadata": {},
   "source": [
    "# Creating series\n",
    "The constructor for series is: pandas.Series(data, index, dtype, copy)\n",
    "\n",
    "Here,\n",
    "\n",
    "data: data (can be lists, ndarrays, dictionaries etc.)\n",
    "\n",
    "index: unique, hashable and same length as data (default is np.arange(n) where n is length of data)\n",
    "\n",
    "dtype: data type of series values\n",
    "\n",
    "copy: copy data (default False)"
   ]
  },
  {
   "cell_type": "markdown",
   "metadata": {},
   "source": [
    "# From NumPy ndarray"
   ]
  },
  {
   "cell_type": "code",
   "execution_count": 3,
   "metadata": {},
   "outputs": [
    {
     "name": "stdout",
     "output_type": "stream",
     "text": [
      "0    10\n",
      "1    20\n",
      "2    30\n",
      "dtype: int64\n",
      "==================\n",
      "a    10\n",
      "b    20\n",
      "c    30\n",
      "dtype: int64\n"
     ]
    }
   ],
   "source": [
    "import numpy as np\n",
    "import pandas as pd\n",
    "\n",
    "labels = ['a','b','c']\n",
    "my_data = [10,20,30]\n",
    "arr = np.array(my_data)\n",
    "\n",
    "print(pd.Series(my_data))\n",
    "print('==================')\n",
    "print(pd.Series(my_data,index=labels))"
   ]
  },
  {
   "cell_type": "markdown",
   "metadata": {},
   "source": [
    "# From Dictionary\n",
    "When the index is not specified, then the keys are taken in a sorted order as index values.\n",
    "\n",
    "If the index is passed, values in data corresponding to the labels in the index will be accessed, the index which is absent in the keys of the dictionary will have NaN values.\n",
    "\n",
    "You can store heterogeneous data while creating a series with a dictionary"
   ]
  },
  {
   "cell_type": "code",
   "execution_count": 4,
   "metadata": {},
   "outputs": [
    {
     "name": "stdout",
     "output_type": "stream",
     "text": [
      "b    1\n",
      "c    2\n",
      "d    3\n",
      "dtype: int64\n",
      "============\n",
      "a    NaN\n",
      "b    1.0\n",
      "c    2.0\n",
      "dtype: float64\n"
     ]
    }
   ],
   "source": [
    "lables = ['a','b','c']\n",
    "\n",
    "# dictionary\n",
    "dic = {'b':1,'c':2,'d':3}\n",
    "\n",
    "# Series without specified labels\n",
    "print(pd.Series(dic))\n",
    "print('============')\n",
    "\n",
    "# Series with specified labels\n",
    "print(pd.Series(dic, labels))"
   ]
  },
  {
   "cell_type": "markdown",
   "metadata": {},
   "source": [
    "# From Scalar\n",
    "The index is provided and scalar will be repeated to match the value and the length of it."
   ]
  },
  {
   "cell_type": "code",
   "execution_count": 5,
   "metadata": {},
   "outputs": [
    {
     "name": "stdout",
     "output_type": "stream",
     "text": [
      "a    10\n",
      "b    10\n",
      "c    10\n",
      "dtype: int64\n",
      "===============\n",
      "0    10\n",
      "1    10\n",
      "2    10\n",
      "3    10\n",
      "4    10\n",
      "dtype: int64\n"
     ]
    }
   ],
   "source": [
    "num = 10\n",
    "\n",
    "# Series with index ['a','b','c']\n",
    "print(pd.Series(num,index=['a','b','c']))\n",
    "print('===============')\n",
    "\n",
    "# Series with index [0,1,2,3,4]\n",
    "print(pd.Series(num,index=range(5)))"
   ]
  },
  {
   "cell_type": "markdown",
   "metadata": {},
   "source": [
    "# Accessing elements By Position\n",
    "A series is very similar to a NumPy array (index starts at 0), so data can be accessed in the same manner as we did for NumPy arrays. The syntax remains the same i.e. series[start:stop:step]. Let us understand with an example."
   ]
  },
  {
   "cell_type": "code",
   "execution_count": 6,
   "metadata": {},
   "outputs": [
    {
     "name": "stdout",
     "output_type": "stream",
     "text": [
      "First element is 11\n",
      "==========\n",
      "First three elements are [11 12 13]\n",
      "==========\n",
      "RangeIndex(start=0, stop=10, step=1)\n",
      "==========\n",
      "[11 12 13 14 15 16 17 18 19 20]\n",
      "==========\n"
     ]
    }
   ],
   "source": [
    "# series of numbers from 11 to 20\n",
    "ser = pd.Series(data = range(11,21),index=range(10))\n",
    "\n",
    "# retrieve the first element\n",
    "print(\"First element is\",ser[0])\n",
    "print('==========')\n",
    "\n",
    "#retrieve the first three elements\n",
    "# ser[:3] -----> first three elements\n",
    "print(\"First three elements are\",ser[:3].values)\n",
    "print('==========')\n",
    "\n",
    "# retrieve index\n",
    "print(ser.index)\n",
    "print('==========')\n",
    "\n",
    "# retrieve data\n",
    "print(ser.values)\n",
    "print('==========')"
   ]
  },
  {
   "cell_type": "markdown",
   "metadata": {},
   "source": [
    "# By labels\n",
    "Single element access: series[index]\n",
    "\n",
    "Multiple element access: series[[index1, index2, index3, .....]]\n",
    "\n",
    "Remember to use [[ ]] to access multiple elements via labels"
   ]
  },
  {
   "cell_type": "code",
   "execution_count": 7,
   "metadata": {},
   "outputs": [
    {
     "name": "stdout",
     "output_type": "stream",
     "text": [
      "Value at index 'b' is  20\n",
      "==========\n",
      "Values at indexes 'a','c' and 'e' are  [10 30 50]\n",
      "==========\n",
      "There is no such index\n"
     ]
    }
   ],
   "source": [
    "# series of first five multiples of 10\n",
    "ser = pd.Series(data = [10,20,30,40,50], index = ['a','b','c','d','e'])\n",
    "\n",
    "# retrieve value at index 'b'\n",
    "print(\"Value at index 'b' is \",ser['b'])\n",
    "print('==========')\n",
    "\n",
    "# retrieve value at indexes 'a','c' and 'e'\n",
    "print(\"Values at indexes 'a','c' and 'e' are \", ser[['a','c','e']].values)\n",
    "print('==========')\n",
    "\n",
    "#retrieve value at index 'f' (not present)\n",
    "try:\n",
    "    print(\"Value at index 'f' is\",ser['f'])\n",
    "except KeyError:\n",
    "    print(\"There is no such index\")"
   ]
  },
  {
   "cell_type": "markdown",
   "metadata": {},
   "source": [
    "# Dataframe\n",
    "The constructor for pandas dataframe object is pandas.DataFrame( data, index, columns, dtype, copy).\n",
    "\n",
    "Here,\n",
    "\n",
    "data: various forms (ndarray, series, map, lists, dict, constants, another DataFrame)\n",
    "\n",
    "index: index labels (default np.arange(n))\n",
    "\n",
    "columns: column names (default np.arange(n)); True only when index is not specified\n",
    "\n",
    "dtype: Data type of each column\n",
    "\n",
    "copy: copying of data (default False)"
   ]
  },
  {
   "cell_type": "markdown",
   "metadata": {},
   "source": [
    "# creating Dataframe using list"
   ]
  },
  {
   "cell_type": "code",
   "execution_count": 9,
   "metadata": {},
   "outputs": [
    {
     "name": "stdout",
     "output_type": "stream",
     "text": [
      "    Name\n",
      "0    Rob\n",
      "1  Bobby\n",
      "2   John\n",
      "3  Danny\n",
      "4  Manny\n"
     ]
    }
   ],
   "source": [
    "#import packages\n",
    "import pandas as pd\n",
    "import numpy as np\n",
    "\n",
    "# list of values (single column)\n",
    "data = ['Rob','Bobby','John','Danny','Manny']\n",
    "\n",
    "#construct dataframe with column called 'Name'\n",
    "df = pd.DataFrame(data, columns = ['Name'])\n",
    "\n",
    "#display\n",
    "print(df)"
   ]
  },
  {
   "cell_type": "code",
   "execution_count": 10,
   "metadata": {},
   "outputs": [
    {
     "name": "stdout",
     "output_type": "stream",
     "text": [
      "    Name  Age\n",
      "0    Rob   25\n",
      "1  Bobby   30\n",
      "2   John   21\n",
      "3  Danny   32\n",
      "4  Manny   23\n"
     ]
    }
   ],
   "source": [
    "#list of values (two columns)\n",
    "data =[['Rob',25],['Bobby',30],['John',21],['Danny',32],['Manny',23]]\n",
    "\n",
    "#construct dataframe with columns called 'Name' and 'Age'\n",
    "df = pd.DataFrame(data,columns = ['Name','Age'])\n",
    "\n",
    "#display\n",
    "print(df)"
   ]
  },
  {
   "cell_type": "markdown",
   "metadata": {},
   "source": [
    "# From dictionary\n",
    "Dictionary of ndarrays/lists: The keys of the dictionary will be the feature names and the values will be the values for that feature across the dataframe. Remember that the ndarrays/lists must have the same length."
   ]
  },
  {
   "cell_type": "code",
   "execution_count": 11,
   "metadata": {},
   "outputs": [
    {
     "name": "stdout",
     "output_type": "stream",
     "text": [
      "    Name  Age\n",
      "R    Rob   25\n",
      "B  Bobby   30\n",
      "J   John   21\n",
      "D  Danny   32\n",
      "M  Manny   23\n"
     ]
    }
   ],
   "source": [
    "#data source\n",
    "data = {'Name':['Rob','Bobby','John','Danny','Manny'], 'Age':[25,30,21,32,23]}\n",
    "\n",
    "#construct dataframe\n",
    "df = pd.DataFrame(data, index = ['R','B','J','D','M'])\n",
    "\n",
    "#display\n",
    "print(df)"
   ]
  },
  {
   "cell_type": "markdown",
   "metadata": {},
   "source": [
    "# From list of dictionaries\n",
    "Here, each element corresponds to a row/instance and every element is a dictionary. This dictionary in turn contains the feature names as the keys and feature values as the values of that key. We create the same dataframe as the previous example this time but now as a list of dictionaries."
   ]
  },
  {
   "cell_type": "code",
   "execution_count": 13,
   "metadata": {},
   "outputs": [
    {
     "name": "stdout",
     "output_type": "stream",
     "text": [
      "    Name  Age\n",
      "R    Rob   25\n",
      "B  Bobby   30\n",
      "J   John   21\n",
      "D  Danny   32\n",
      "M  Manny   23\n"
     ]
    }
   ],
   "source": [
    "# data source\n",
    "data = [{'Name':'Rob','Age':25},{'Name':'Bobby','Age':30},\n",
    "        {'Name':'John','Age':21},{'Name':'Danny','Age':32},\n",
    "        {'Name':'Manny','Age':23}]\n",
    "\n",
    "#construct dataframe\n",
    "df = pd.DataFrame(data, index=['R','B','J','D','M'])\n",
    "\n",
    "#display\n",
    "print(df)"
   ]
  },
  {
   "cell_type": "markdown",
   "metadata": {},
   "source": [
    "# From series:"
   ]
  },
  {
   "cell_type": "code",
   "execution_count": 14,
   "metadata": {},
   "outputs": [
    {
     "data": {
      "text/html": [
       "<div>\n",
       "<style scoped>\n",
       "    .dataframe tbody tr th:only-of-type {\n",
       "        vertical-align: middle;\n",
       "    }\n",
       "\n",
       "    .dataframe tbody tr th {\n",
       "        vertical-align: top;\n",
       "    }\n",
       "\n",
       "    .dataframe thead th {\n",
       "        text-align: right;\n",
       "    }\n",
       "</style>\n",
       "<table border=\"1\" class=\"dataframe\">\n",
       "  <thead>\n",
       "    <tr style=\"text-align: right;\">\n",
       "      <th></th>\n",
       "      <th>Name</th>\n",
       "      <th>Age</th>\n",
       "    </tr>\n",
       "  </thead>\n",
       "  <tbody>\n",
       "    <tr>\n",
       "      <td>R</td>\n",
       "      <td>Rob</td>\n",
       "      <td>25</td>\n",
       "    </tr>\n",
       "    <tr>\n",
       "      <td>B</td>\n",
       "      <td>Bobby</td>\n",
       "      <td>30</td>\n",
       "    </tr>\n",
       "    <tr>\n",
       "      <td>J</td>\n",
       "      <td>John</td>\n",
       "      <td>21</td>\n",
       "    </tr>\n",
       "    <tr>\n",
       "      <td>D</td>\n",
       "      <td>Danny</td>\n",
       "      <td>32</td>\n",
       "    </tr>\n",
       "    <tr>\n",
       "      <td>M</td>\n",
       "      <td>Manny</td>\n",
       "      <td>23</td>\n",
       "    </tr>\n",
       "  </tbody>\n",
       "</table>\n",
       "</div>"
      ],
      "text/plain": [
       "    Name  Age\n",
       "R    Rob   25\n",
       "B  Bobby   30\n",
       "J   John   21\n",
       "D  Danny   32\n",
       "M  Manny   23"
      ]
     },
     "execution_count": 14,
     "metadata": {},
     "output_type": "execute_result"
    }
   ],
   "source": [
    "#construct the dataframe\n",
    "df = pd.DataFrame({'Name':pd.Series(['Rob','Bobby','John','Danny','Manny'],index=['R','B','J','D','M']),\n",
    "                    'Age':pd.Series([25,30,21,32,23],index=['R','B','J','D','M'])})\n",
    "#display\n",
    "df"
   ]
  },
  {
   "cell_type": "markdown",
   "metadata": {},
   "source": [
    "# Column operations"
   ]
  },
  {
   "cell_type": "markdown",
   "metadata": {},
   "source": [
    "# Selection\n",
    " If you have a DataFrame df and you want to select a column col1 you can do it by df[col1]; if you have multiple columns col1, col2, col3 you do it by df[[col1, col2, col3]]"
   ]
  },
  {
   "cell_type": "code",
   "execution_count": 15,
   "metadata": {},
   "outputs": [
    {
     "data": {
      "text/plain": [
       "R      Rob\n",
       "B    Bobby\n",
       "J     John\n",
       "D    Danny\n",
       "M    Manny\n",
       "Name: Name, dtype: object"
      ]
     },
     "execution_count": 15,
     "metadata": {},
     "output_type": "execute_result"
    }
   ],
   "source": [
    "df['Name']"
   ]
  },
  {
   "cell_type": "markdown",
   "metadata": {},
   "source": [
    "# Creation\n",
    "syntax is: df[new_column] = df[col1] + df[col2] (You can also perform subtraction, division etc.)\n",
    "\n",
    "eg:- df['Difference']=df['Attack']-df['Defense']"
   ]
  },
  {
   "cell_type": "markdown",
   "metadata": {},
   "source": [
    "# Deletion\n",
    "Now you want to delete the column Difference that you had just made. You can do it by df.drop([col1, col2, ...], inplace=True, axis=0/1). Note that inplace=True deletes columns from the dataframe permanently and axis specifies whether to drop across columns (axis=$1$) or rows (axis=$0$)\n",
    "\n",
    "eg:- df.drop(['Difference'],inplace=True,axis=1)"
   ]
  },
  {
   "cell_type": "markdown",
   "metadata": {},
   "source": [
    "# Row operations"
   ]
  },
  {
   "cell_type": "markdown",
   "metadata": {},
   "source": [
    "# Selection\n",
    "You can access rows by either label of the index using loc or integer (row number) using iloc keyword.\n",
    "\n",
    "Syntax using loc: df.loc[index]\n",
    "\n",
    "Syntax using iloc: df.iloc[row number]\n",
    "\n",
    "eg: -\n",
    "df.iloc[0,0]\n",
    "df.loc[0]"
   ]
  },
  {
   "cell_type": "markdown",
   "metadata": {},
   "source": [
    "# Slicing\n",
    "Use df[start:end] to slice rows according to row number (not label); \n",
    "here end value is not inclusive. Heres how you can slice from row numbers 2 and 3: df[2:4]"
   ]
  },
  {
   "cell_type": "markdown",
   "metadata": {},
   "source": [
    "# Creation/Addition\n",
    "Use df.append(data) where data is a DataFrame or Series/dictionary-like object, or list of these."
   ]
  },
  {
   "cell_type": "markdown",
   "metadata": {},
   "source": [
    "# Deletion\n",
    "You can delete rows using the .drop() to drop rows by specifying axis=0 inside the function"
   ]
  },
  {
   "cell_type": "markdown",
   "metadata": {},
   "source": [
    "# Renaming columns\n",
    "To rename columns from col1, col2 to newcol1, newcol2, use the function .rename(columns={col1:newcol1, col2:newcol2}, inplace=True) to permanently rename the columns."
   ]
  },
  {
   "cell_type": "markdown",
   "metadata": {},
   "source": [
    "# Set index\n",
    "To set index labels for column column, use set_index(column, inplace=True)"
   ]
  },
  {
   "cell_type": "markdown",
   "metadata": {},
   "source": [
    "# value_counts()\n",
    " It gives a quick count of observations for each level. This doesn't count NAs and can be applied on series objects; not dataframes.\n",
    "rg:- \n",
    "#Counts for different variants of Type 1 pokemons\n",
    "\n",
    "print(df['Type 1'].value_counts())"
   ]
  },
  {
   "cell_type": "markdown",
   "metadata": {},
   "source": [
    "# .unique()\n",
    "All the unique values present in the series, very similar to the set() function\n",
    "\n",
    "eg:-\n",
    "#Different variants of Type 1 pokemon\n",
    "\n",
    "print(df['Type 1'].unique())"
   ]
  },
  {
   "cell_type": "markdown",
   "metadata": {},
   "source": [
    "# nunique()\n",
    "Length of the list returned by .unique() method. It is the total number of unique elements in the series\n",
    "\n",
    "eg:- # How many different variants of Type 1 are there\n",
    "\n",
    "type_1 = df['Type 1'].nunique()\n",
    "print(type_1)"
   ]
  },
  {
   "cell_type": "markdown",
   "metadata": {},
   "source": [
    "# Apply Functions\n",
    "Functions can be applied along the axes of a DataFrame using the .apply() the method"
   ]
  },
  {
   "cell_type": "code",
   "execution_count": 1,
   "metadata": {},
   "outputs": [
    {
     "ename": "NameError",
     "evalue": "name 'np' is not defined",
     "output_type": "error",
     "traceback": [
      "\u001b[1;31m---------------------------------------------------------------------------\u001b[0m",
      "\u001b[1;31mNameError\u001b[0m                                 Traceback (most recent call last)",
      "\u001b[1;32m<ipython-input-1-0479b054a5c3>\u001b[0m in \u001b[0;36m<module>\u001b[1;34m\u001b[0m\n\u001b[0;32m      1\u001b[0m \u001b[1;31m# minumum value\u001b[0m\u001b[1;33m\u001b[0m\u001b[1;33m\u001b[0m\u001b[1;33m\u001b[0m\u001b[0m\n\u001b[1;32m----> 2\u001b[1;33m \u001b[0mlower\u001b[0m \u001b[1;33m=\u001b[0m \u001b[0mnp\u001b[0m\u001b[1;33m.\u001b[0m\u001b[0mmin\u001b[0m\u001b[1;33m(\u001b[0m\u001b[0mdf\u001b[0m\u001b[1;33m[\u001b[0m\u001b[1;34m'Attack'\u001b[0m\u001b[1;33m]\u001b[0m\u001b[1;33m)\u001b[0m\u001b[1;33m\u001b[0m\u001b[1;33m\u001b[0m\u001b[0m\n\u001b[0m\u001b[0;32m      3\u001b[0m \u001b[1;33m\u001b[0m\u001b[0m\n\u001b[0;32m      4\u001b[0m \u001b[1;31m# maximum value\u001b[0m\u001b[1;33m\u001b[0m\u001b[1;33m\u001b[0m\u001b[1;33m\u001b[0m\u001b[0m\n\u001b[0;32m      5\u001b[0m \u001b[0mupper\u001b[0m \u001b[1;33m=\u001b[0m \u001b[0mnp\u001b[0m\u001b[1;33m.\u001b[0m\u001b[0mmax\u001b[0m\u001b[1;33m(\u001b[0m\u001b[0mdf\u001b[0m\u001b[1;33m[\u001b[0m\u001b[1;34m'Attack'\u001b[0m\u001b[1;33m]\u001b[0m\u001b[1;33m)\u001b[0m\u001b[1;33m\u001b[0m\u001b[1;33m\u001b[0m\u001b[0m\n",
      "\u001b[1;31mNameError\u001b[0m: name 'np' is not defined"
     ]
    }
   ],
   "source": [
    "# minumum value\n",
    "lower = np.min(df['Attack'])\n",
    "\n",
    "# maximum value\n",
    "upper = np.max(df['Attack'])\n",
    "\n",
    "# range\n",
    "limit = upper - lower\n",
    "\n",
    "# mean \n",
    "mean = np.mean(df['Attack'])\n",
    "\n",
    "# function\n",
    "def standardize(x,x_mean,x_range):\n",
    "    return (x-x_mean)/x_range\n",
    "\n",
    "# apply for 'Total' column\n",
    "print(df['Attack'].apply(lambda x:standardize(x,mean,limit)))"
   ]
  },
  {
   "cell_type": "markdown",
   "metadata": {},
   "source": [
    "# group by\n",
    "In pandas we do it with the help of .groupby() function which returns a GroupBy object. Lets understand it through an example where we will group Pokemons according to Generation:\n",
    "\n",
    "df.groupby('Generation')"
   ]
  },
  {
   "cell_type": "markdown",
   "metadata": {},
   "source": [
    "# Inspecting groups\n",
    "Now that we have created the groups, how to inspect them? Well, just use the .groups the attribute of the groupby object. It returns a dictionary where keys are the categories and values are the row labels for that category. For example, if we do df.groupby('Generation').groups we will get a dictionary with categories of Generation as keys and row labels (names of Pokemons) as values.\n",
    "\n",
    "df.groupby('Generation').groups\n",
    "\n",
    "output:-\n",
    "\n",
    "{1: Index([       'Bulbasaur',          'Ivysaur',         'Venusaur',\n",
    "           'Mega Venusaur',       'Charmander',       'Charmeleon',\n",
    "               'Charizard', 'Mega Charizard X', 'Mega Charizard Y',\n",
    "                'Squirtle',\n",
    "        ...\n",
    "                'Articuno',           'Zapdos',          'Moltres',\n",
    "                 'Dratini',        'Dragonair',        'Dragonite',\n",
    "                  'Mewtwo',    'Mega Mewtwo X',    'Mega Mewtwo Y',\n",
    "                     'Mew'],\n",
    "       dtype='object', name='Name', length=166),\n",
    "       \n",
    " 2: Index(['Chikorita', 'Bayleef', 'Meganium', 'Cyndaquil', 'Quilava',\n",
    "        'Typhlosion', 'Totodile', 'Croconaw', 'Feraligatr', 'Sentret',\n",
    "        ...\n",
    "        'Raikou', 'Entei', 'Suicune', 'Larvitar', 'Pupitar', 'Tyranitar',\n",
    "        'Mega Tyranitar', 'Lugia', 'Ho-oh', 'Celebi'],\n",
    "       dtype='object', name='Name', length=106),\n",
    "       \n",
    " 3: Index(['Treecko', 'Grovyle', 'Sceptile', 'Mega Sceptile', 'Torchic',\n",
    "        'Combusken', 'Blaziken', 'Mega Blaziken', 'Mudkip', 'Marshtomp',\n",
    "        ..."
   ]
  },
  {
   "cell_type": "markdown",
   "metadata": {},
   "source": [
    "# Using aggregate functions on groups\n",
    "The next logical step after grouping them is the operation we need to perform on these groups. Let's say we want to calculate the median value of Sp. Atk for every Generation.\n",
    "\n",
    "df.groupby('Generation')[['Sp. Atk']].median()\n",
    "\n",
    "output:-\n",
    "\n",
    "Generation Sp. Atk    \n",
    "\n",
    "    1        65\n",
    "    \n",
    "    2        65\n",
    "    \n",
    "    3        70\n",
    "    \n",
    "    4        71\n",
    "    \n",
    "    5        65\n",
    "    \n",
    "    6        65"
   ]
  },
  {
   "cell_type": "markdown",
   "metadata": {},
   "source": [
    "# Sorting\n",
    "Okay, now we want to sort the median value of Sp. Atk for every Generation in descending order. We can do it with the help of .sort_values(by=column, ascending=False) where the column is the name of the column we want to sort by and ascending=True if we want to sort in ascending order. Let's see how it works out in our case\n",
    "\n",
    "df.groupby('Generation')[['Sp. Atk']].median().sort_values(by='Sp. Atk',ascending=False)\n",
    "\n",
    "output:-\n",
    "\n",
    "Generation Sp. Atk\n",
    "\n",
    "    4        71\n",
    "    \n",
    "    3        70\n",
    "    \n",
    "    1        65\n",
    "    \n",
    "    2        65\n",
    "    \n",
    "    5        65\n",
    "    \n",
    "    6        65"
   ]
  },
  {
   "cell_type": "markdown",
   "metadata": {},
   "source": [
    "# Creating pivot tables\n",
    "pandas.pivot(data, columns, index, aggfunc) where\n",
    "\n",
    "data: dataframe to be used for pivot operation\n",
    "\n",
    "columns: Keys to group by on pivot table column\n",
    "\n",
    "index: column/array to groupby our data (Will be displayed in the index column (or columns, if you're passing in a list)\n",
    "\n",
    "values (optional): Column to aggregate (If we do not specify this then the function will aggregate all numeric columns)\n",
    "\n",
    "aggfunc: Functions to be applied to for every group (by default computes mean)\n",
    "\n",
    "eg:- pd.pivot_table(df,index='Generation',values='Attack',aggfunc='sum')\n",
    "\n",
    "pd.pivot_table(df,index=['Legendary','Generation'],values='Attack')"
   ]
  },
  {
   "cell_type": "markdown",
   "metadata": {},
   "source": [
    "# Merging DataFrame\n",
    "Syntax of merge\n",
    "\n",
    "The syntax is pd.merge(left, right, how='inner', on=None, left_on=None, right_on=None, left_index=False, right_index=False, sort=True) where:\n",
    "\n",
    "left: dataframe\n",
    "\n",
    "right: dataframe\n",
    "\n",
    "on: Columns (names) to join on. Must be found in both the left and right DataFrame objects.\n",
    "\n",
    "left_on: Columns from the left DataFrame to use as keys (can either be column names or arrays with length equal to the length of the DataFrame).\n",
    "\n",
    "right_on: Columns from the right DataFrame to use as keys (can either be column names or arrays with length equal to the length of the DataFrame).\n",
    "\n",
    "left_index: If True, use the index (row labels) from the left DataFrame as its join key(s). In case of a DataFrame with a MultiIndex (hierarchical), the number of levels must match the number of join keys from the right DataFrame.\n",
    "\n",
    "right_index: Same usage as left_index for the right DataFrame.\n",
    "\n",
    "how − One of 'left', 'right', 'outer', 'inner'. Defaults to 'inner'\n",
    "\n",
    "sort − Sort the result DataFrame by the join keys in lexicographical order. Defaults to True"
   ]
  },
  {
   "cell_type": "markdown",
   "metadata": {},
   "source": [
    "# Joins in dataframes\n",
    "Inner Merge / Inner join: The default pandas behaviour; only keep rows where the merge on value exists in both the left and right dataframes.\n",
    "\n",
    "Left Merge / Left outer join(aka left merge or left join): Keep every row in the left dataframe; where there are missing values of the on variable in the right dataframe, add empty / NaN values in the result.\n",
    "\n",
    "Right Merge / Right outer join(aka right merge or right join): Keep every row in the right dataframe; where there are missing values of the on variable in the left column, add empty / NaN values in the result.\n",
    "\n",
    "Outer Merge / Full outer join – A full outer join returns all the rows from the left dataframe, all the rows from the right dataframe, and matches up rows where possible, with NaNs elsewhere."
   ]
  },
  {
   "cell_type": "markdown",
   "metadata": {},
   "source": [
    "# Inner merge\n",
    "pd.merge(left=attack,right=defense,on='Name',how='inner')"
   ]
  },
  {
   "cell_type": "markdown",
   "metadata": {},
   "source": [
    "# Outer merge\n",
    "pd.merge(left=attack,right=defense,on='Name',how='outer')"
   ]
  },
  {
   "cell_type": "markdown",
   "metadata": {},
   "source": [
    "# Left merge\n",
    "pd.merge(left=attack,right=defense,on='Name',how='left')"
   ]
  },
  {
   "cell_type": "markdown",
   "metadata": {},
   "source": [
    "# Right merge\n",
    "pd.merge(left=attack,right=defense,on='Name',how='right')"
   ]
  },
  {
   "cell_type": "code",
   "execution_count": null,
   "metadata": {},
   "outputs": [],
   "source": []
  }
 ],
 "metadata": {
  "kernelspec": {
   "display_name": "Python 3",
   "language": "python",
   "name": "python3"
  },
  "language_info": {
   "codemirror_mode": {
    "name": "ipython",
    "version": 3
   },
   "file_extension": ".py",
   "mimetype": "text/x-python",
   "name": "python",
   "nbconvert_exporter": "python",
   "pygments_lexer": "ipython3",
   "version": "3.7.4"
  }
 },
 "nbformat": 4,
 "nbformat_minor": 2
}
