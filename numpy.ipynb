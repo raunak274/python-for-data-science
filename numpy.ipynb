{
 "cells": [
  {
   "cell_type": "markdown",
   "metadata": {},
   "source": [
    "# NUMPY"
   ]
  },
  {
   "cell_type": "code",
   "execution_count": 2,
   "metadata": {},
   "outputs": [
    {
     "name": "stdout",
     "output_type": "stream",
     "text": [
      "2\n"
     ]
    }
   ],
   "source": [
    "import numpy as np\n",
    "a = np.array([1,2,3,4])\n",
    "b = np.array([[1,2,3,4], [5,6,7,8]])"
   ]
  },
  {
   "cell_type": "markdown",
   "metadata": {},
   "source": [
    "# shape of array"
   ]
  },
  {
   "cell_type": "code",
   "execution_count": 3,
   "metadata": {},
   "outputs": [
    {
     "name": "stdout",
     "output_type": "stream",
     "text": [
      "The shape of the array a is  (4,)\n",
      "The shape of the array b is  (2, 4)\n"
     ]
    }
   ],
   "source": [
    "print('The shape of the array a is ', a.shape)\n",
    "print('The shape of the array b is ', b.shape)"
   ]
  },
  {
   "cell_type": "markdown",
   "metadata": {},
   "source": [
    "# Dimensions"
   ]
  },
  {
   "cell_type": "code",
   "execution_count": 4,
   "metadata": {},
   "outputs": [
    {
     "name": "stdout",
     "output_type": "stream",
     "text": [
      "The dimensions of array a is  1\n",
      "The dimensions of array b is  2\n"
     ]
    }
   ],
   "source": [
    "print('The dimensions of array a is ', a.ndim)\n",
    "print('The dimensions of array b is ', b.ndim)"
   ]
  },
  {
   "cell_type": "markdown",
   "metadata": {},
   "source": [
    "# Size"
   ]
  },
  {
   "cell_type": "code",
   "execution_count": 5,
   "metadata": {},
   "outputs": [
    {
     "name": "stdout",
     "output_type": "stream",
     "text": [
      "The size of the array a is  4\n",
      "The size of the array b is  8\n"
     ]
    }
   ],
   "source": [
    "print('The size of the array a is ', a.size)\n",
    "print('The size of the array b is ', b.size)"
   ]
  },
  {
   "cell_type": "markdown",
   "metadata": {},
   "source": [
    "# Datatype"
   ]
  },
  {
   "cell_type": "code",
   "execution_count": 6,
   "metadata": {},
   "outputs": [
    {
     "name": "stdout",
     "output_type": "stream",
     "text": [
      "The datatype of the array a is  int32\n",
      "The datatype of the array b is  int32\n"
     ]
    }
   ],
   "source": [
    "print('The datatype of the array a is ', a.dtype)\n",
    "print('The datatype of the array b is ', b.dtype)"
   ]
  },
  {
   "cell_type": "markdown",
   "metadata": {},
   "source": [
    "# Itemsize"
   ]
  },
  {
   "cell_type": "code",
   "execution_count": 7,
   "metadata": {},
   "outputs": [
    {
     "name": "stdout",
     "output_type": "stream",
     "text": [
      "The number of bytes in each element of the array a is   4\n",
      "The number of bytes in each element of the array b is  4\n"
     ]
    }
   ],
   "source": [
    "print('The number of bytes in each element of the array a is  ', a.itemsize)\n",
    "print('The number of bytes in each element of the array b is ', b.itemsize)"
   ]
  },
  {
   "cell_type": "markdown",
   "metadata": {},
   "source": [
    "# arange"
   ]
  },
  {
   "cell_type": "code",
   "execution_count": 9,
   "metadata": {},
   "outputs": [
    {
     "name": "stdout",
     "output_type": "stream",
     "text": [
      "[ 1  2  3  4  5  6  7  8  9 10]\n"
     ]
    }
   ],
   "source": [
    "array = np.arange(1,11)\n",
    "print(array)"
   ]
  },
  {
   "cell_type": "markdown",
   "metadata": {},
   "source": [
    "# reshaping"
   ]
  },
  {
   "cell_type": "code",
   "execution_count": 10,
   "metadata": {},
   "outputs": [
    {
     "name": "stdout",
     "output_type": "stream",
     "text": [
      "[[ 1  2]\n",
      " [ 3  4]\n",
      " [ 5  6]\n",
      " [ 7  8]\n",
      " [ 9 10]]\n"
     ]
    }
   ],
   "source": [
    "reshaped = array.reshape(5,2)\n",
    "print(reshaped)"
   ]
  },
  {
   "cell_type": "markdown",
   "metadata": {},
   "source": [
    "# np.empty()\n",
    "Creates an uninitialized (arbitrary) array of specified shape and dtype"
   ]
  },
  {
   "cell_type": "code",
   "execution_count": 11,
   "metadata": {},
   "outputs": [
    {
     "data": {
      "text/plain": [
       "array([[-96, -69,  85,  92],\n",
       "       [-36,   2,   0,   0],\n",
       "       [  0,   0,   0,   0]], dtype=int8)"
      ]
     },
     "execution_count": 11,
     "metadata": {},
     "output_type": "execute_result"
    }
   ],
   "source": [
    "np.empty((3,4),dtype='int8')"
   ]
  },
  {
   "cell_type": "markdown",
   "metadata": {},
   "source": [
    "# np.zeros()\n",
    "Creates a new array of specified size, filled with zeros"
   ]
  },
  {
   "cell_type": "code",
   "execution_count": 12,
   "metadata": {},
   "outputs": [
    {
     "data": {
      "text/plain": [
       "array([[0, 0, 0, 0],\n",
       "       [0, 0, 0, 0],\n",
       "       [0, 0, 0, 0]], dtype=int8)"
      ]
     },
     "execution_count": 12,
     "metadata": {},
     "output_type": "execute_result"
    }
   ],
   "source": [
    "np.zeros((3,4),dtype='int8')"
   ]
  },
  {
   "cell_type": "markdown",
   "metadata": {},
   "source": [
    "# np.ones()\n",
    "Creates a new array of specified size and type, filled with ones"
   ]
  },
  {
   "cell_type": "code",
   "execution_count": 13,
   "metadata": {},
   "outputs": [
    {
     "data": {
      "text/plain": [
       "array([[1, 1, 1, 1],\n",
       "       [1, 1, 1, 1],\n",
       "       [1, 1, 1, 1]], dtype=int8)"
      ]
     },
     "execution_count": 13,
     "metadata": {},
     "output_type": "execute_result"
    }
   ],
   "source": [
    "np.ones((3,4),dtype='int8')"
   ]
  },
  {
   "cell_type": "markdown",
   "metadata": {},
   "source": [
    "# np.full()\n",
    "Creates a new array of given shape and type, filled with a constant value"
   ]
  },
  {
   "cell_type": "code",
   "execution_count": 14,
   "metadata": {},
   "outputs": [
    {
     "data": {
      "text/plain": [
       "array([[7, 7],\n",
       "       [7, 7]])"
      ]
     },
     "execution_count": 14,
     "metadata": {},
     "output_type": "execute_result"
    }
   ],
   "source": [
    "np.full((2,2),7)"
   ]
  },
  {
   "cell_type": "markdown",
   "metadata": {},
   "source": [
    "# np.eye()\n",
    "Creates a 2-D array with ones on the diagonal and zeros elsewhere"
   ]
  },
  {
   "cell_type": "code",
   "execution_count": 15,
   "metadata": {},
   "outputs": [
    {
     "data": {
      "text/plain": [
       "array([[1., 0., 0.],\n",
       "       [0., 1., 0.],\n",
       "       [0., 0., 1.]])"
      ]
     },
     "execution_count": 15,
     "metadata": {},
     "output_type": "execute_result"
    }
   ],
   "source": [
    "np.eye(3)"
   ]
  },
  {
   "cell_type": "markdown",
   "metadata": {},
   "source": [
    "# Converting a list to array"
   ]
  },
  {
   "cell_type": "code",
   "execution_count": 16,
   "metadata": {},
   "outputs": [
    {
     "name": "stdout",
     "output_type": "stream",
     "text": [
      "[1 2 3]\n"
     ]
    }
   ],
   "source": [
    "#python list\n",
    "a=[1,2,3]\n",
    "#convert to NumPy array\n",
    "b=np.asarray(a)\n",
    "print(b)"
   ]
  },
  {
   "cell_type": "markdown",
   "metadata": {},
   "source": [
    "# Converting tuples into array"
   ]
  },
  {
   "cell_type": "code",
   "execution_count": 18,
   "metadata": {},
   "outputs": [
    {
     "name": "stdout",
     "output_type": "stream",
     "text": [
      "[[1 2]\n",
      " [3 4]]\n"
     ]
    }
   ],
   "source": [
    "#python tuples\n",
    "a=((1,2),(3,4))\n",
    "\n",
    "#convery to NumPy array\n",
    "b=np.asarray(a)\n",
    "print(b)"
   ]
  },
  {
   "cell_type": "markdown",
   "metadata": {},
   "source": [
    "# np.fromiter( )\n",
    "This function creates a NumPy ndarray from an iterable"
   ]
  },
  {
   "cell_type": "code",
   "execution_count": 19,
   "metadata": {},
   "outputs": [
    {
     "name": "stdout",
     "output_type": "stream",
     "text": [
      "Array a is  [1 2 3 4]\n",
      "Array b is  [1 2 3 4]\n",
      "Array c is  [1 2 3 4]\n",
      "Array d is  [b's' b't' b'r' b'i' b'n' b'g']\n"
     ]
    }
   ],
   "source": [
    "a=np.fromiter([1,2,3,4],dtype='int8')\n",
    "b=np.fromiter((1,2,3,4),dtype='int8')\n",
    "c=np.fromiter(range(1,5),dtype='int8')\n",
    "d=np.fromiter('string',dtype='S50')\n",
    "\n",
    "print(\"Array a is \",a)\n",
    "print(\"Array b is \",b)\n",
    "print(\"Array c is \",c)\n",
    "print(\"Array d is \",d)"
   ]
  },
  {
   "cell_type": "markdown",
   "metadata": {},
   "source": [
    "# np.arange( )\n",
    "It returns an array containing evenly spaced values within a given range\n",
    "\n",
    "Syntax :numpy.arange(start, stop, step, dtype)\n",
    "\n",
    "Here, numbers are created in the range of [start, stop-1]. We can also specify steps and data type using the step and dtype hyperparameters."
   ]
  },
  {
   "cell_type": "code",
   "execution_count": 20,
   "metadata": {},
   "outputs": [
    {
     "name": "stdout",
     "output_type": "stream",
     "text": [
      "[ 1  2  3  4  5  6  7  8  9 10 11 12 13 14 15 16 17 18 19]\n",
      "[ 1  3  5  7  9 11 13 15 17 19]\n"
     ]
    }
   ],
   "source": [
    "# NumPy array from 1 to 19\n",
    "print(np.arange(1,20,dtype='int32'))\n",
    "\n",
    "# NumPy array from 1 to 19 with step size 2\n",
    "print(np.arange(1,20,2,dtype='int8'))"
   ]
  },
  {
   "cell_type": "markdown",
   "metadata": {},
   "source": [
    "# np.linspace( )\n",
    "It also returns an array within a range but not according to the step size as in the case of .arange() but according to the number of values we want within that range.\n",
    "\n",
    "Syntax: numpy.linspace(start, stop, num, endpoint, retstep, dtype)\n",
    "\n",
    "Here, start and stop means the same as in .arange( ) but the difference lies in num, which gives us the number of equally spaced numbers you want to insert within the range [start, stop-1]. The endpoint argument generally is by default set to the stop value (try changing it for some interesting results)"
   ]
  },
  {
   "cell_type": "code",
   "execution_count": 21,
   "metadata": {},
   "outputs": [
    {
     "name": "stdout",
     "output_type": "stream",
     "text": [
      "[ 1.          1.19191919  1.38383838  1.57575758  1.76767677  1.95959596\n",
      "  2.15151515  2.34343434  2.53535354  2.72727273  2.91919192  3.11111111\n",
      "  3.3030303   3.49494949  3.68686869  3.87878788  4.07070707  4.26262626\n",
      "  4.45454545  4.64646465  4.83838384  5.03030303  5.22222222  5.41414141\n",
      "  5.60606061  5.7979798   5.98989899  6.18181818  6.37373737  6.56565657\n",
      "  6.75757576  6.94949495  7.14141414  7.33333333  7.52525253  7.71717172\n",
      "  7.90909091  8.1010101   8.29292929  8.48484848  8.67676768  8.86868687\n",
      "  9.06060606  9.25252525  9.44444444  9.63636364  9.82828283 10.02020202\n",
      " 10.21212121 10.4040404  10.5959596  10.78787879 10.97979798 11.17171717\n",
      " 11.36363636 11.55555556 11.74747475 11.93939394 12.13131313 12.32323232\n",
      " 12.51515152 12.70707071 12.8989899  13.09090909 13.28282828 13.47474747\n",
      " 13.66666667 13.85858586 14.05050505 14.24242424 14.43434343 14.62626263\n",
      " 14.81818182 15.01010101 15.2020202  15.39393939 15.58585859 15.77777778\n",
      " 15.96969697 16.16161616 16.35353535 16.54545455 16.73737374 16.92929293\n",
      " 17.12121212 17.31313131 17.50505051 17.6969697  17.88888889 18.08080808\n",
      " 18.27272727 18.46464646 18.65656566 18.84848485 19.04040404 19.23232323\n",
      " 19.42424242 19.61616162 19.80808081 20.        ]\n"
     ]
    }
   ],
   "source": [
    "print(np.linspace(1,20,100))"
   ]
  },
  {
   "cell_type": "markdown",
   "metadata": {},
   "source": [
    "# np.logspace( )\n",
    "This function returns an array containing numbers that are evenly spaced on a log scale. Start and stop endpoints of the scale are indices of the base, usually 10.\n",
    "\n",
    "Syntax: numpy.logspace(start, stop, num, endpoint, base, dtype)"
   ]
  },
  {
   "cell_type": "code",
   "execution_count": 22,
   "metadata": {},
   "outputs": [
    {
     "name": "stdout",
     "output_type": "stream",
     "text": [
      "[  1.           1.04761575   1.09749877   1.149757     1.20450354\n",
      "   1.26185688   1.32194115   1.38488637   1.45082878   1.51991108\n",
      "   1.59228279   1.66810054   1.7475284    1.83073828   1.91791026\n",
      "   2.009233     2.10490414   2.20513074   2.3101297    2.42012826\n",
      "   2.53536449   2.65608778   2.7825594    2.91505306   3.05385551\n",
      "   3.19926714   3.35160265   3.51119173   3.67837977   3.85352859\n",
      "   4.03701726   4.22924287   4.43062146   4.64158883   4.86260158\n",
      "   5.09413801   5.33669923   5.59081018   5.85702082   6.13590727\n",
      "   6.42807312   6.73415066   7.05480231   7.39072203   7.74263683\n",
      "   8.11130831   8.49753436   8.90215085   9.32603347   9.77009957\n",
      "  10.23531022  10.72267222  11.23324033  11.76811952  12.32846739\n",
      "  12.91549665  13.53047775  14.17474163  14.84968262  15.55676144\n",
      "  16.29750835  17.07352647  17.88649529  18.73817423  19.6304065\n",
      "  20.56512308  21.5443469   22.5701972   23.64489413  24.77076356\n",
      "  25.95024211  27.18588243  28.48035868  29.8364724   31.2571585\n",
      "  32.74549163  34.30469286  35.93813664  37.64935807  39.44206059\n",
      "  41.320124    43.28761281  45.34878508  47.50810162  49.77023564\n",
      "  52.14008288  54.62277218  57.22367659  59.94842503  62.80291442\n",
      "  65.79332247  68.92612104  72.20809018  75.64633276  79.24828984\n",
      "  83.02175681  86.97490026  91.11627561  95.45484567 100.        ]\n"
     ]
    }
   ],
   "source": [
    "print(np.logspace(0,2,100))"
   ]
  },
  {
   "cell_type": "markdown",
   "metadata": {},
   "source": [
    "# Indexing\n",
    "array[start:stop: step]"
   ]
  },
  {
   "cell_type": "code",
   "execution_count": 23,
   "metadata": {},
   "outputs": [
    {
     "name": "stdout",
     "output_type": "stream",
     "text": [
      "8\n",
      "==========\n",
      "[[1 2]\n",
      " [4 5]]\n",
      "==========\n",
      "[7 8 9]\n"
     ]
    }
   ],
   "source": [
    "a = np.array([[1,2,3],[4,5,6],[7,8,9]])\n",
    "\n",
    "# Pull out second element of third row\n",
    "print(a[2][1])\n",
    "print('==========')\n",
    "# Pull out first two rows and columns\n",
    "print(a[:2,:2])\n",
    "print('==========')\n",
    "# Pull all elements of the third row\n",
    "print(a[2,:])"
   ]
  },
  {
   "cell_type": "markdown",
   "metadata": {},
   "source": [
    "# Integer array indexing"
   ]
  },
  {
   "cell_type": "code",
   "execution_count": 24,
   "metadata": {},
   "outputs": [
    {
     "name": "stdout",
     "output_type": "stream",
     "text": [
      "[1 4 5]\n",
      "==========\n",
      "[1 4 5]\n",
      "==========\n",
      "[2 2]\n",
      "==========\n",
      "[2 2]\n"
     ]
    }
   ],
   "source": [
    "# An example of integer array indexing\n",
    "a=np.array([[1,2],[3,4],[5,6]])\n",
    "\n",
    "print(a[[0,1,2],[0,1,0]])\n",
    "print('==========')\n",
    "\n",
    "print(np.array([a[0,0],a[1,1],a[2,0]]))\n",
    "print('==========')\n",
    "\n",
    "print(a[[0,0],[1,1]])\n",
    "print('==========')\n",
    "\n",
    "print(np.array([a[0,1],a[0,1]]))"
   ]
  },
  {
   "cell_type": "markdown",
   "metadata": {},
   "source": [
    "# Boolean indexing\n",
    "A boolean index array is of the same shape as the array-to-be-filtered and it contains only True and False values. You can filter those you want using the concept of masking. For ex: If for some array a and boolean condition condition = a > 2, a[condition] will result in an array that contains only the numbers in array a that is greater than 2."
   ]
  },
  {
   "cell_type": "code",
   "execution_count": 25,
   "metadata": {},
   "outputs": [
    {
     "name": "stdout",
     "output_type": "stream",
     "text": [
      "[[ True  True False]\n",
      " [False  True  True]\n",
      " [ True False False]]\n",
      "[4 7 5 7 7]\n"
     ]
    }
   ],
   "source": [
    "a = np.array([[4,7,1],[2,5,7],[7,1,1]])\n",
    "\n",
    "# Boolean condition for values greater than 3\n",
    "mask = a > 3\n",
    "print(mask)\n",
    "\n",
    "# Masking for the above boolean condition in the array\n",
    "print(a[mask])"
   ]
  },
  {
   "cell_type": "markdown",
   "metadata": {},
   "source": [
    "# What is vectorization?\n",
    "Vectorization is the ability of NumPy by which we can perform operations on entire arrays rather than on a single element."
   ]
  },
  {
   "cell_type": "code",
   "execution_count": 26,
   "metadata": {},
   "outputs": [
    {
     "name": "stdout",
     "output_type": "stream",
     "text": [
      "[3 4 5 6 7]\n"
     ]
    }
   ],
   "source": [
    "a = np.array([1,2,3,4,5,6,7])\n",
    "print(a[a > 2])"
   ]
  },
  {
   "cell_type": "markdown",
   "metadata": {},
   "source": [
    "# Vectorized operations\n",
    "Addition\n",
    "\n",
    "Subtraction\n",
    "\n",
    "Multiplication\n",
    "\n",
    "Division"
   ]
  },
  {
   "cell_type": "markdown",
   "metadata": {},
   "source": [
    "# Addition\n",
    "\n",
    "Two ways to go about it, using either + or np.add()"
   ]
  },
  {
   "cell_type": "code",
   "execution_count": 27,
   "metadata": {},
   "outputs": [
    {
     "name": "stdout",
     "output_type": "stream",
     "text": [
      "[[11 13 15]\n",
      " [17 19 21]\n",
      " [23 25 27]]\n",
      "==========\n",
      "[[11 13 15]\n",
      " [17 19 21]\n",
      " [23 25 27]]\n"
     ]
    }
   ],
   "source": [
    "a = np.array([[1,2,3],[4,5,6],[7,8,9]])\n",
    "b=np.array([[10,11,12],[13,14,15],[16,17,18]])\n",
    "\n",
    "# element wise addition\n",
    "print(a+b)\n",
    "print('==========')\n",
    "print(np.add(a,b))"
   ]
  },
  {
   "cell_type": "markdown",
   "metadata": {},
   "source": [
    "# Subtraction\n",
    "Two ways, - or np.subtract()"
   ]
  },
  {
   "cell_type": "code",
   "execution_count": 28,
   "metadata": {},
   "outputs": [
    {
     "name": "stdout",
     "output_type": "stream",
     "text": [
      "[[-9 -9 -9]\n",
      " [-9 -9 -9]\n",
      " [-9 -9 -9]]\n",
      "==========\n",
      "[[-9 -9 -9]\n",
      " [-9 -9 -9]\n",
      " [-9 -9 -9]]\n"
     ]
    }
   ],
   "source": [
    "print(a-b)\n",
    "print('==========')\n",
    "print(np.subtract(a,b))"
   ]
  },
  {
   "cell_type": "markdown",
   "metadata": {},
   "source": [
    "# Multiplication\n",
    "Two ways, * or np.multiply()"
   ]
  },
  {
   "cell_type": "code",
   "execution_count": 29,
   "metadata": {},
   "outputs": [
    {
     "name": "stdout",
     "output_type": "stream",
     "text": [
      "[[ 10  22  36]\n",
      " [ 52  70  90]\n",
      " [112 136 162]]\n",
      "==========\n",
      "[[ 10  22  36]\n",
      " [ 52  70  90]\n",
      " [112 136 162]]\n"
     ]
    }
   ],
   "source": [
    "print(a*b)\n",
    "print('==========')\n",
    "print(np.multiply(a,b))"
   ]
  },
  {
   "cell_type": "markdown",
   "metadata": {},
   "source": [
    "# Division\n",
    "Two ways, / or np.divide()"
   ]
  },
  {
   "cell_type": "code",
   "execution_count": 30,
   "metadata": {},
   "outputs": [
    {
     "name": "stdout",
     "output_type": "stream",
     "text": [
      "[[0.1        0.18181818 0.25      ]\n",
      " [0.30769231 0.35714286 0.4       ]\n",
      " [0.4375     0.47058824 0.5       ]]\n",
      "==========\n",
      "[[0.1        0.18181818 0.25      ]\n",
      " [0.30769231 0.35714286 0.4       ]\n",
      " [0.4375     0.47058824 0.5       ]]\n"
     ]
    }
   ],
   "source": [
    "print(a/b)\n",
    "print('==========')\n",
    "print(np.divide(a,b))"
   ]
  },
  {
   "cell_type": "markdown",
   "metadata": {},
   "source": [
    "# Square root transform\n",
    "Use np.sqrt()"
   ]
  },
  {
   "cell_type": "code",
   "execution_count": 31,
   "metadata": {},
   "outputs": [
    {
     "name": "stdout",
     "output_type": "stream",
     "text": [
      "[[1. 2. 3.]\n",
      " [4. 5. 6.]]\n"
     ]
    }
   ],
   "source": [
    "a = np.array([[1,4,9],[16,25,36]])\n",
    "print(np.sqrt(a))"
   ]
  },
  {
   "cell_type": "markdown",
   "metadata": {},
   "source": [
    "# Log transform\n",
    "Use np.log()"
   ]
  },
  {
   "cell_type": "code",
   "execution_count": 32,
   "metadata": {},
   "outputs": [
    {
     "name": "stdout",
     "output_type": "stream",
     "text": [
      "[[0.         1.38629436 2.19722458]\n",
      " [2.77258872 3.21887582 3.58351894]]\n"
     ]
    }
   ],
   "source": [
    "a = np.array([[1,4,9],[16,25,36]])\n",
    "print(np.log(a))"
   ]
  },
  {
   "cell_type": "markdown",
   "metadata": {},
   "source": [
    "# Aggregrate operations\n",
    "Aggregration operations are those where we perform some operation on the entire array. Some commonly used aggregrate operations are listed below:\n",
    "\n",
    "Command\t- Description\n",
    "\n",
    "a.sum() -Array-wise sum\n",
    "\n",
    "a.min() - Array-wise minimum value\n",
    "\n",
    "a.max(axis=0) - Maximum value of an array row\n",
    "\n",
    "a.cumsum(axis=1) - Cumulative sum of the elements\n",
    "\n",
    "a.mean() - Mean\n",
    "\n",
    "np.median(a) - Median\n",
    "\n",
    "np.corrcoef(a) - Correlation coefficient\n",
    "\n",
    "np.std(a) - Standard deviation"
   ]
  },
  {
   "cell_type": "markdown",
   "metadata": {},
   "source": [
    "# Array comparison\n",
    "Use the command np.array_equal() for array comparison."
   ]
  },
  {
   "cell_type": "code",
   "execution_count": 36,
   "metadata": {},
   "outputs": [
    {
     "name": "stdout",
     "output_type": "stream",
     "text": [
      "True\n"
     ]
    }
   ],
   "source": [
    "a = np.array([1,2,3,4])\n",
    "b = np.array([1,2,3,4])\n",
    "print(np.array_equal(a,b))"
   ]
  },
  {
   "cell_type": "markdown",
   "metadata": {},
   "source": [
    "# Understanding Axes notation\n",
    "In NumPy, an axis refers to a single dimension of a multidimensional array. By changing axis you can compute across dimensions, whereas not specifying axis will result in computation over the entire array."
   ]
  },
  {
   "cell_type": "code",
   "execution_count": 38,
   "metadata": {},
   "outputs": [
    {
     "name": "stdout",
     "output_type": "stream",
     "text": [
      "[17 29 45]\n",
      "==========\n",
      "[14 77]\n",
      "==========\n",
      "91\n"
     ]
    }
   ],
   "source": [
    "a = np.array([[1,4,9],[16,25,36]])\n",
    "\n",
    "# computes sum over columns\n",
    "print(a.sum(axis=0))\n",
    "print('==========')\n",
    "\n",
    "# computes sum over rows\n",
    "print(a.sum(axis=1))\n",
    "print('==========')\n",
    "\n",
    "# computes total sum\n",
    "print(a.sum())"
   ]
  },
  {
   "cell_type": "code",
   "execution_count": null,
   "metadata": {},
   "outputs": [],
   "source": []
  }
 ],
 "metadata": {
  "kernelspec": {
   "display_name": "Python 3",
   "language": "python",
   "name": "python3"
  },
  "language_info": {
   "codemirror_mode": {
    "name": "ipython",
    "version": 3
   },
   "file_extension": ".py",
   "mimetype": "text/x-python",
   "name": "python",
   "nbconvert_exporter": "python",
   "pygments_lexer": "ipython3",
   "version": "3.7.4"
  }
 },
 "nbformat": 4,
 "nbformat_minor": 2
}
